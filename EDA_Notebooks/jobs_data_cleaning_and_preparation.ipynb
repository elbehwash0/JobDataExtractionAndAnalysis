{
 "cells": [
  {
   "metadata": {},
   "cell_type": "markdown",
   "source": [
    "# Data Cleaning and Preparation with Pandas\n",
    "\n",
    "This notebook is dedicated solely to loading, cleaning, and preparing the job dataset. \n",
    "It performs the following tasks:\n",
    "\n",
    "• Loading and appending multiple CSV files.\n",
    "\n",
    "• Resetting the dataframe index.\n",
    "\n",
    "• Parsing the 'Years of experience' column into numeric minimum and maximum values.\n",
    "\n",
    "• Cleaning the 'Salaries' column (removing currency markers, handling non-numeric rows, and parsing numeric values).\n",
    "\n",
    "• Removing extraneous characters from the 'Skills' and 'Locations' columns.\n",
    "\n",
    "• Reordering the columns.\n",
    "\n",
    "After cleaning, a utility function get_df() is provided to return the fully cleaned dataset.\n",
    "\n"
   ],
   "id": "c638dbe40c64536a"
  },
  {
   "metadata": {
    "ExecuteTime": {
     "end_time": "2025-04-01T22:05:54.639229Z",
     "start_time": "2025-04-01T22:05:53.127031Z"
    }
   },
   "cell_type": "code",
   "source": [
    "import os\n",
    "import pandas as pd"
   ],
   "id": "82bac0e0c1da7beb",
   "outputs": [],
   "execution_count": 1
  },
  {
   "metadata": {},
   "cell_type": "markdown",
   "source": [
    "\n",
    "## Load and Append CSV Files\n",
    "\n",
    "This cell reads multiple CSV files and appends them into a single dataframe.\n",
    "\n"
   ],
   "id": "b79824c1190dd3c9"
  },
  {
   "metadata": {
    "ExecuteTime": {
     "end_time": "2025-04-01T22:05:54.694362Z",
     "start_time": "2025-04-01T22:05:54.647456Z"
    }
   },
   "cell_type": "code",
   "source": [
    "# Initialize an empty DataFrame.\n",
    "df = pd.DataFrame()\n",
    "\n",
    "# Append CSV files.\n",
    "for i in range(1, 8):\n",
    "    csv_path = rf\"D:\\mozakra\\Python\\PycharmProjects\\JobDataExtractionAndAnalysis\\Data\\page{i}.csv\"\n",
    "    if os.path.exists(csv_path):\n",
    "        csv_reader = pd.read_csv(csv_path)\n",
    "        # Append each CSV and ignore the original index.\n",
    "        df = df._append(csv_reader, ignore_index=True)\n",
    "    else:\n",
    "        print(f\"Warning: File not found at {csv_path}\")\n"
   ],
   "id": "8af2a21c28437ccd",
   "outputs": [],
   "execution_count": 2
  },
  {
   "metadata": {},
   "cell_type": "markdown",
   "source": [
    "\n",
    "## Reset the DataFrame Index\n",
    "\n",
    "Reset the index to ensure a sequential index.\n",
    "\n"
   ],
   "id": "4720e833a61ade47"
  },
  {
   "metadata": {
    "ExecuteTime": {
     "end_time": "2025-04-01T22:05:54.878214Z",
     "start_time": "2025-04-01T22:05:54.870567Z"
    }
   },
   "cell_type": "code",
   "source": "df.reset_index(drop=True, inplace=True)",
   "id": "6aaa80403203d83d",
   "outputs": [],
   "execution_count": 3
  },
  {
   "metadata": {},
   "cell_type": "markdown",
   "source": [
    "\n",
    "## Clean and Parse the Experience Column\n",
    "\n",
    "We adjust and split the 'Years of experience' column into two separate numeric columns:\n",
    "\n",
    "• 'Min Years of Experience'\n",
    "\n",
    "• 'Max Years of Experience'\n",
    "\n"
   ],
   "id": "5977bf8bf6cb64bd"
  },
  {
   "metadata": {
    "ExecuteTime": {
     "end_time": "2025-04-01T22:05:54.930127Z",
     "start_time": "2025-04-01T22:05:54.914641Z"
    }
   },
   "cell_type": "code",
   "source": [
    "# Insert a space after 'Years' to guarantee proper splitting.\n",
    "df['Years of experience'] = df['Years of experience'].str.replace('Years', ' Years')\n",
    "\n",
    "# Create numeric experience columns.\n",
    "df['Min Years of Experience'] = df['Years of experience'].str.split().str[0].astype(\"int64\")\n",
    "df['Max Years of Experience'] = df['Years of experience'].str.split().str[2].astype(\"int64\")\n"
   ],
   "id": "ac459139e7a401df",
   "outputs": [],
   "execution_count": 4
  },
  {
   "metadata": {},
   "cell_type": "markdown",
   "source": [
    "\n",
    "## Clean the Salaries Column\n",
    "\n",
    "Cleaning steps:\n",
    "1. Ensure only rows with numeric salary data are preserved.\n",
    "2. Remove the 'USD ' currency marker.\n",
    "3. Split the salary string and convert the two parts to numeric values.\n",
    "\n",
    "Rows without valid numeric data are set to missing.\n",
    "\n"
   ],
   "id": "5572294986beacb6"
  },
  {
   "metadata": {
    "ExecuteTime": {
     "end_time": "2025-04-01T22:05:54.976280Z",
     "start_time": "2025-04-01T22:05:54.957540Z"
    }
   },
   "cell_type": "code",
   "source": [
    "# Create a mask to check for numeric content.\n",
    "mask = df['Salaries'].str.contains(r'\\d', regex=True, na=False)\n",
    "df.loc[:, 'Salaries'] = df['Salaries'].where(mask, pd.NA)\n",
    "\n",
    "# Reset index in case of dropped rows.\n",
    "df.reset_index(drop=True, inplace=True)\n",
    "\n",
    "# Remove the currency marker.\n",
    "salary_str = df['Salaries'].str.replace('USD ', '', regex=False)\n",
    "\n",
    "# Convert the split strings to floats safely.\n",
    "df['Min Salary'] = pd.to_numeric(salary_str.str.split().str[0], errors='coerce')\n",
    "df['Max Salary'] = pd.to_numeric(salary_str.str.split().str[2], errors='coerce')\n"
   ],
   "id": "cee37d5828c535d5",
   "outputs": [],
   "execution_count": 5
  },
  {
   "metadata": {},
   "cell_type": "markdown",
   "source": [
    "\n",
    "## Clean Skills and Locations Columns\n",
    "\n",
    "Remove unwanted characters (e.g., brackets and quotes) from the Skills and Locations fields.\n",
    "\n"
   ],
   "id": "82773dcbde395a48"
  },
  {
   "metadata": {
    "ExecuteTime": {
     "end_time": "2025-04-01T22:05:55.024584Z",
     "start_time": "2025-04-01T22:05:55.008566Z"
    }
   },
   "cell_type": "code",
   "source": [
    "# Clean up the Skills column.\n",
    "df['Skills'] = (df['Skills']\n",
    "                .str.replace(\"[\", \"\", regex=False)\n",
    "                .str.replace(\"]\", \"\", regex=False)\n",
    "                .str.replace(\"'\", \"\", regex=False))\n",
    "\n",
    "# Clean up the Locations column.\n",
    "df['Locations'] = (df['Locations']\n",
    "                   .str.replace(\"[\", \"\", regex=False)\n",
    "                   .str.replace(\"]\", \"\", regex=False)\n",
    "                   .str.replace(\"'\", \"\", regex=False))\n"
   ],
   "id": "4b852b4708d685dd",
   "outputs": [],
   "execution_count": 6
  },
  {
   "metadata": {},
   "cell_type": "markdown",
   "source": [
    "\n",
    "## Reorder Columns\n",
    "\n",
    "Reorder the dataframe columns into an established order for consistency.\n",
    "\n"
   ],
   "id": "161b6f6ebc693d2d"
  },
  {
   "metadata": {
    "ExecuteTime": {
     "end_time": "2025-04-01T22:05:55.065635Z",
     "start_time": "2025-04-01T22:05:55.054109Z"
    }
   },
   "cell_type": "code",
   "source": [
    "NewOrder = [\"Company Names\",\n",
    "            \"Locations\",\n",
    "            \"Years of experience\",\n",
    "            \"Min Years of Experience\",\n",
    "            \"Max Years of Experience\",\n",
    "            \"Skills\",\n",
    "            \"Salaries\",\n",
    "            \"Min Salary\",\n",
    "            \"Max Salary\",\n",
    "            \"Links\"]\n",
    "df = df.reindex(columns=NewOrder)\n"
   ],
   "id": "a2369a8662f273f6",
   "outputs": [],
   "execution_count": 7
  },
  {
   "metadata": {},
   "cell_type": "markdown",
   "source": [
    "\n",
    "## Utility Function to Retrieve Clean Data\n"
   ],
   "id": "f758f36f26acb930"
  },
  {
   "metadata": {
    "ExecuteTime": {
     "end_time": "2025-04-01T22:05:55.104137Z",
     "start_time": "2025-04-01T22:05:55.097360Z"
    }
   },
   "cell_type": "code",
   "source": [
    "def get_df():\n",
    "    \"\"\"\n",
    "    Returns a fully cleaned dataframe with complete rows.\n",
    "    \n",
    "    Returns:\n",
    "        pd.DataFrame: Clean and prepared job data.\n",
    "    \"\"\"\n",
    "    return df.dropna()\n"
   ],
   "id": "dbfdb40a9cab5d6c",
   "outputs": [],
   "execution_count": 8
  },
  {
   "metadata": {},
   "cell_type": "markdown",
   "source": "# Display DataFrame after Cleaning",
   "id": "c681415ad1eb2238"
  },
  {
   "metadata": {
    "ExecuteTime": {
     "end_time": "2025-04-01T22:05:55.160789Z",
     "start_time": "2025-04-01T22:05:55.131006Z"
    }
   },
   "cell_type": "code",
   "source": "df",
   "id": "ecf825b2a3517d4c",
   "outputs": [
    {
     "data": {
      "text/plain": [
       "                          Company Names  \\\n",
       "0                       Sparks To Ideas   \n",
       "1                           LTIMindtree   \n",
       "2    World wide Immigration Service Llp   \n",
       "3                           LTIMindtree   \n",
       "4          TALPRO INDIA PRIVATE LIMITED   \n",
       "..                                  ...   \n",
       "163                LAKSH HUMAN RESOURCE   \n",
       "164                            zenga tv   \n",
       "165                   SEVEN CONSULTANCY   \n",
       "166                      INFINITY GROUP   \n",
       "167                   SEVEN CONSULTANCY   \n",
       "\n",
       "                                             Locations Years of experience  \\\n",
       "0                                  Ahmedabad (Gujarat)         0 - 1 Years   \n",
       "1                                   Pune (Maharashtra)        8 - 12 Years   \n",
       "2                              Luxembourg (Luxembourg)         3 - 8 Years   \n",
       "3                                   Pune (Maharashtra)        8 - 12 Years   \n",
       "4                     Bengaluru/ Bangalore (Karnataka)        5 - 15 Years   \n",
       "..                                                 ...                 ...   \n",
       "163                               Mumbai (Maharashtra)         1 - 3 Years   \n",
       "164                                  Gurgaon (Haryana)         2 - 5 Years   \n",
       "165  Navi Mumbai (Maharashtra), Mumbai (Maharashtra...         1 - 3 Years   \n",
       "166               Noida/ Greater Noida (Uttar Pradesh)         2 - 5 Years   \n",
       "167    Navi Mumbai (Maharashtra), Mumbai (Maharashtra)         4 - 7 Years   \n",
       "\n",
       "     Min Years of Experience  Max Years of Experience  \\\n",
       "0                          0                        1   \n",
       "1                          8                       12   \n",
       "2                          3                        8   \n",
       "3                          8                       12   \n",
       "4                          5                       15   \n",
       "..                       ...                      ...   \n",
       "163                        1                        3   \n",
       "164                        2                        5   \n",
       "165                        1                        3   \n",
       "166                        2                        5   \n",
       "167                        4                        7   \n",
       "\n",
       "                                                Skills             Salaries  \\\n",
       "0    Core Python, Numpy, Pycharm, DJango, Machine L...    2.05 - 6.10 Lakhs   \n",
       "1    Mandatory Skills : Dimensional Data ModelingGo...                 <NA>   \n",
       "2    network engineer, network administrator, Netwo...  50.00 - 95.00 Lakhs   \n",
       "3    Mandatory Skills : Dimensional Data ModelingGo...                 <NA>   \n",
       "4                                               Python  15.30 - 30.60 Lakhs   \n",
       "..                                                 ...                  ...   \n",
       "163                          rest, python, django, git                 <NA>   \n",
       "164                  python, django, html5, javascript                 <NA>   \n",
       "165                              rest, python, storage                 <NA>   \n",
       "166               python, css, django, html, bootstrap                 <NA>   \n",
       "167                                   python, mvc, sql                 <NA>   \n",
       "\n",
       "     Min Salary  Max Salary                                              Links  \n",
       "0          2.05         6.1  https://www.timesjobs.com/job-detail/hiring-fo...  \n",
       "1           NaN         NaN  https://www.timesjobs.com/job-detail/data-scie...  \n",
       "2         50.00        95.0  https://www.timesjobs.com/job-detail/network-e...  \n",
       "3           NaN         NaN  https://www.timesjobs.com/job-detail/data-scie...  \n",
       "4         15.30        30.6  https://www.timesjobs.com/job-detail/python-de...  \n",
       "..          ...         ...                                                ...  \n",
       "163         NaN         NaN  https://www.timesjobs.com/job-detail/python-de...  \n",
       "164         NaN         NaN  https://www.timesjobs.com/job-detail/python-de...  \n",
       "165         NaN         NaN  https://www.timesjobs.com/job-detail/python-de...  \n",
       "166         NaN         NaN  https://www.timesjobs.com/job-detail/python-de...  \n",
       "167         NaN         NaN  https://www.timesjobs.com/job-detail/python-de...  \n",
       "\n",
       "[168 rows x 10 columns]"
      ],
      "text/html": [
       "<div>\n",
       "<style scoped>\n",
       "    .dataframe tbody tr th:only-of-type {\n",
       "        vertical-align: middle;\n",
       "    }\n",
       "\n",
       "    .dataframe tbody tr th {\n",
       "        vertical-align: top;\n",
       "    }\n",
       "\n",
       "    .dataframe thead th {\n",
       "        text-align: right;\n",
       "    }\n",
       "</style>\n",
       "<table border=\"1\" class=\"dataframe\">\n",
       "  <thead>\n",
       "    <tr style=\"text-align: right;\">\n",
       "      <th></th>\n",
       "      <th>Company Names</th>\n",
       "      <th>Locations</th>\n",
       "      <th>Years of experience</th>\n",
       "      <th>Min Years of Experience</th>\n",
       "      <th>Max Years of Experience</th>\n",
       "      <th>Skills</th>\n",
       "      <th>Salaries</th>\n",
       "      <th>Min Salary</th>\n",
       "      <th>Max Salary</th>\n",
       "      <th>Links</th>\n",
       "    </tr>\n",
       "  </thead>\n",
       "  <tbody>\n",
       "    <tr>\n",
       "      <th>0</th>\n",
       "      <td>Sparks To Ideas</td>\n",
       "      <td>Ahmedabad (Gujarat)</td>\n",
       "      <td>0 - 1 Years</td>\n",
       "      <td>0</td>\n",
       "      <td>1</td>\n",
       "      <td>Core Python, Numpy, Pycharm, DJango, Machine L...</td>\n",
       "      <td>2.05 - 6.10 Lakhs</td>\n",
       "      <td>2.05</td>\n",
       "      <td>6.1</td>\n",
       "      <td>https://www.timesjobs.com/job-detail/hiring-fo...</td>\n",
       "    </tr>\n",
       "    <tr>\n",
       "      <th>1</th>\n",
       "      <td>LTIMindtree</td>\n",
       "      <td>Pune (Maharashtra)</td>\n",
       "      <td>8 - 12 Years</td>\n",
       "      <td>8</td>\n",
       "      <td>12</td>\n",
       "      <td>Mandatory Skills : Dimensional Data ModelingGo...</td>\n",
       "      <td>&lt;NA&gt;</td>\n",
       "      <td>NaN</td>\n",
       "      <td>NaN</td>\n",
       "      <td>https://www.timesjobs.com/job-detail/data-scie...</td>\n",
       "    </tr>\n",
       "    <tr>\n",
       "      <th>2</th>\n",
       "      <td>World wide Immigration Service Llp</td>\n",
       "      <td>Luxembourg (Luxembourg)</td>\n",
       "      <td>3 - 8 Years</td>\n",
       "      <td>3</td>\n",
       "      <td>8</td>\n",
       "      <td>network engineer, network administrator, Netwo...</td>\n",
       "      <td>50.00 - 95.00 Lakhs</td>\n",
       "      <td>50.00</td>\n",
       "      <td>95.0</td>\n",
       "      <td>https://www.timesjobs.com/job-detail/network-e...</td>\n",
       "    </tr>\n",
       "    <tr>\n",
       "      <th>3</th>\n",
       "      <td>LTIMindtree</td>\n",
       "      <td>Pune (Maharashtra)</td>\n",
       "      <td>8 - 12 Years</td>\n",
       "      <td>8</td>\n",
       "      <td>12</td>\n",
       "      <td>Mandatory Skills : Dimensional Data ModelingGo...</td>\n",
       "      <td>&lt;NA&gt;</td>\n",
       "      <td>NaN</td>\n",
       "      <td>NaN</td>\n",
       "      <td>https://www.timesjobs.com/job-detail/data-scie...</td>\n",
       "    </tr>\n",
       "    <tr>\n",
       "      <th>4</th>\n",
       "      <td>TALPRO INDIA PRIVATE LIMITED</td>\n",
       "      <td>Bengaluru/ Bangalore (Karnataka)</td>\n",
       "      <td>5 - 15 Years</td>\n",
       "      <td>5</td>\n",
       "      <td>15</td>\n",
       "      <td>Python</td>\n",
       "      <td>15.30 - 30.60 Lakhs</td>\n",
       "      <td>15.30</td>\n",
       "      <td>30.6</td>\n",
       "      <td>https://www.timesjobs.com/job-detail/python-de...</td>\n",
       "    </tr>\n",
       "    <tr>\n",
       "      <th>...</th>\n",
       "      <td>...</td>\n",
       "      <td>...</td>\n",
       "      <td>...</td>\n",
       "      <td>...</td>\n",
       "      <td>...</td>\n",
       "      <td>...</td>\n",
       "      <td>...</td>\n",
       "      <td>...</td>\n",
       "      <td>...</td>\n",
       "      <td>...</td>\n",
       "    </tr>\n",
       "    <tr>\n",
       "      <th>163</th>\n",
       "      <td>LAKSH HUMAN RESOURCE</td>\n",
       "      <td>Mumbai (Maharashtra)</td>\n",
       "      <td>1 - 3 Years</td>\n",
       "      <td>1</td>\n",
       "      <td>3</td>\n",
       "      <td>rest, python, django, git</td>\n",
       "      <td>&lt;NA&gt;</td>\n",
       "      <td>NaN</td>\n",
       "      <td>NaN</td>\n",
       "      <td>https://www.timesjobs.com/job-detail/python-de...</td>\n",
       "    </tr>\n",
       "    <tr>\n",
       "      <th>164</th>\n",
       "      <td>zenga tv</td>\n",
       "      <td>Gurgaon (Haryana)</td>\n",
       "      <td>2 - 5 Years</td>\n",
       "      <td>2</td>\n",
       "      <td>5</td>\n",
       "      <td>python, django, html5, javascript</td>\n",
       "      <td>&lt;NA&gt;</td>\n",
       "      <td>NaN</td>\n",
       "      <td>NaN</td>\n",
       "      <td>https://www.timesjobs.com/job-detail/python-de...</td>\n",
       "    </tr>\n",
       "    <tr>\n",
       "      <th>165</th>\n",
       "      <td>SEVEN CONSULTANCY</td>\n",
       "      <td>Navi Mumbai (Maharashtra), Mumbai (Maharashtra...</td>\n",
       "      <td>1 - 3 Years</td>\n",
       "      <td>1</td>\n",
       "      <td>3</td>\n",
       "      <td>rest, python, storage</td>\n",
       "      <td>&lt;NA&gt;</td>\n",
       "      <td>NaN</td>\n",
       "      <td>NaN</td>\n",
       "      <td>https://www.timesjobs.com/job-detail/python-de...</td>\n",
       "    </tr>\n",
       "    <tr>\n",
       "      <th>166</th>\n",
       "      <td>INFINITY GROUP</td>\n",
       "      <td>Noida/ Greater Noida (Uttar Pradesh)</td>\n",
       "      <td>2 - 5 Years</td>\n",
       "      <td>2</td>\n",
       "      <td>5</td>\n",
       "      <td>python, css, django, html, bootstrap</td>\n",
       "      <td>&lt;NA&gt;</td>\n",
       "      <td>NaN</td>\n",
       "      <td>NaN</td>\n",
       "      <td>https://www.timesjobs.com/job-detail/python-de...</td>\n",
       "    </tr>\n",
       "    <tr>\n",
       "      <th>167</th>\n",
       "      <td>SEVEN CONSULTANCY</td>\n",
       "      <td>Navi Mumbai (Maharashtra), Mumbai (Maharashtra)</td>\n",
       "      <td>4 - 7 Years</td>\n",
       "      <td>4</td>\n",
       "      <td>7</td>\n",
       "      <td>python, mvc, sql</td>\n",
       "      <td>&lt;NA&gt;</td>\n",
       "      <td>NaN</td>\n",
       "      <td>NaN</td>\n",
       "      <td>https://www.timesjobs.com/job-detail/python-de...</td>\n",
       "    </tr>\n",
       "  </tbody>\n",
       "</table>\n",
       "<p>168 rows × 10 columns</p>\n",
       "</div>"
      ]
     },
     "execution_count": 9,
     "metadata": {},
     "output_type": "execute_result"
    }
   ],
   "execution_count": 9
  },
  {
   "metadata": {},
   "cell_type": "markdown",
   "source": [
    "\n",
    "# End of Data Cleaning Notebook\n",
    "\n",
    "The clean dataset can now be used in further analysis and visualizations.\n",
    "\n"
   ],
   "id": "5345935ae712da10"
  }
 ],
 "metadata": {
  "kernelspec": {
   "display_name": "Python 3",
   "language": "python",
   "name": "python3"
  },
  "language_info": {
   "codemirror_mode": {
    "name": "ipython",
    "version": 2
   },
   "file_extension": ".py",
   "mimetype": "text/x-python",
   "name": "python",
   "nbconvert_exporter": "python",
   "pygments_lexer": "ipython2",
   "version": "2.7.6"
  }
 },
 "nbformat": 4,
 "nbformat_minor": 5
}
